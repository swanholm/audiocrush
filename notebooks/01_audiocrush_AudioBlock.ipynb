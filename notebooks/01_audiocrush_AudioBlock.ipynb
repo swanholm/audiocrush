{
 "cells": [
  {
   "cell_type": "code",
   "execution_count": 5,
   "metadata": {},
   "outputs": [
    {
     "ename": "NameError",
     "evalue": "name 'Path' is not defined",
     "output_type": "error",
     "traceback": [
      "\u001b[1;31m---------------------------------------------------------------------------\u001b[0m",
      "\u001b[1;31mNameError\u001b[0m                                 Traceback (most recent call last)",
      "Cell \u001b[1;32mIn[5], line 6\u001b[0m\n\u001b[0;32m      4\u001b[0m \u001b[38;5;28;01mfrom\u001b[39;00m \u001b[38;5;21;01mfastai\u001b[39;00m\u001b[38;5;21;01m.\u001b[39;00m\u001b[38;5;21;01mdata\u001b[39;00m\u001b[38;5;21;01m.\u001b[39;00m\u001b[38;5;21;01mcore\u001b[39;00m \u001b[38;5;28;01mimport\u001b[39;00m DataLoaders\n\u001b[0;32m      5\u001b[0m \u001b[38;5;28;01mfrom\u001b[39;00m \u001b[38;5;21;01mfastai\u001b[39;00m\u001b[38;5;21;01m.\u001b[39;00m\u001b[38;5;21;01mlearner\u001b[39;00m \u001b[38;5;28;01mimport\u001b[39;00m Learner\n\u001b[1;32m----> 6\u001b[0m \u001b[38;5;28;01mfrom\u001b[39;00m \u001b[38;5;21;01maudiocrush\u001b[39;00m\u001b[38;5;21;01m.\u001b[39;00m\u001b[38;5;21;01mdata\u001b[39;00m \u001b[38;5;28;01mimport\u001b[39;00m AudioBlock\n\u001b[0;32m      7\u001b[0m \u001b[38;5;28;01mfrom\u001b[39;00m \u001b[38;5;21;01mfastai\u001b[39;00m\u001b[38;5;21;01m.\u001b[39;00m\u001b[38;5;21;01mdata\u001b[39;00m \u001b[38;5;28;01mimport\u001b[39;00m CategoryBlock\n\u001b[0;32m      9\u001b[0m \u001b[38;5;66;03m# Define the path to your data\u001b[39;00m\n",
      "File \u001b[1;32mc:\\Dev\\crush\\audiocrush\\data.py:4\u001b[0m\n\u001b[0;32m      1\u001b[0m \u001b[38;5;28;01mfrom\u001b[39;00m \u001b[38;5;21;01mfastai\u001b[39;00m\u001b[38;5;21;01m.\u001b[39;00m\u001b[38;5;21;01mdata\u001b[39;00m\u001b[38;5;21;01m.\u001b[39;00m\u001b[38;5;21;01mtransforms\u001b[39;00m \u001b[38;5;28;01mimport\u001b[39;00m Transform\n\u001b[0;32m      2\u001b[0m \u001b[38;5;28;01mfrom\u001b[39;00m \u001b[38;5;21;01mfastai\u001b[39;00m\u001b[38;5;21;01m.\u001b[39;00m\u001b[38;5;21;01mdata\u001b[39;00m\u001b[38;5;21;01m.\u001b[39;00m\u001b[38;5;21;01mblock\u001b[39;00m \u001b[38;5;28;01mimport\u001b[39;00m TransformBlock\n\u001b[1;32m----> 4\u001b[0m \u001b[38;5;28;43;01mclass\u001b[39;49;00m\u001b[43m \u001b[49m\u001b[38;5;21;43;01mAudioTensorCreate\u001b[39;49;00m\u001b[43m(\u001b[49m\u001b[43mTransform\u001b[49m\u001b[43m)\u001b[49m\u001b[43m:\u001b[49m\n\u001b[0;32m      5\u001b[0m \u001b[43m    \u001b[49m\u001b[38;5;28;43;01mdef\u001b[39;49;00m\u001b[43m \u001b[49m\u001b[38;5;21;43m__init__\u001b[39;49m\u001b[43m(\u001b[49m\u001b[38;5;28;43mself\u001b[39;49m\u001b[43m,\u001b[49m\u001b[43m \u001b[49m\u001b[43msample_rate\u001b[49m\u001b[38;5;241;43m=\u001b[39;49m\u001b[38;5;241;43m16000\u001b[39;49m\u001b[43m)\u001b[49m\u001b[43m:\u001b[49m\n\u001b[0;32m      6\u001b[0m \u001b[43m        \u001b[49m\u001b[38;5;28;43mself\u001b[39;49m\u001b[38;5;241;43m.\u001b[39;49m\u001b[43msample_rate\u001b[49m\u001b[43m \u001b[49m\u001b[38;5;241;43m=\u001b[39;49m\u001b[43m \u001b[49m\u001b[43msample_rate\u001b[49m\n",
      "File \u001b[1;32mc:\\Dev\\crush\\audiocrush\\data.py:8\u001b[0m, in \u001b[0;36mAudioTensorCreate\u001b[1;34m()\u001b[0m\n\u001b[0;32m      5\u001b[0m \u001b[38;5;28;01mdef\u001b[39;00m \u001b[38;5;21m__init__\u001b[39m(\u001b[38;5;28mself\u001b[39m, sample_rate\u001b[38;5;241m=\u001b[39m\u001b[38;5;241m16000\u001b[39m):\n\u001b[0;32m      6\u001b[0m     \u001b[38;5;28mself\u001b[39m\u001b[38;5;241m.\u001b[39msample_rate \u001b[38;5;241m=\u001b[39m sample_rate\n\u001b[1;32m----> 8\u001b[0m \u001b[38;5;28;01mdef\u001b[39;00m \u001b[38;5;21mencodes\u001b[39m(\u001b[38;5;28mself\u001b[39m, fn: \u001b[43mPath\u001b[49m):\n\u001b[0;32m      9\u001b[0m     \u001b[38;5;66;03m# Implement your caching and loading logic here\u001b[39;00m\n\u001b[0;32m     10\u001b[0m     \u001b[38;5;66;03m# For example:\u001b[39;00m\n\u001b[0;32m     11\u001b[0m     info \u001b[38;5;241m=\u001b[39m get_cached_file(fn, sample_rate\u001b[38;5;241m=\u001b[39m\u001b[38;5;28mself\u001b[39m\u001b[38;5;241m.\u001b[39msample_rate)\n\u001b[0;32m     12\u001b[0m     waveform, sample_rate, info \u001b[38;5;241m=\u001b[39m load_complete_file(info[\u001b[38;5;124m\"\u001b[39m\u001b[38;5;124mcache_path\u001b[39m\u001b[38;5;124m\"\u001b[39m], orig_path\u001b[38;5;241m=\u001b[39mfn)\n",
      "\u001b[1;31mNameError\u001b[0m: name 'Path' is not defined"
     ]
    }
   ],
   "source": [
    "from pathlib import Path\n",
    "from fastai.data.block import DataBlock\n",
    "from fastai.data.transforms import RandomSplitter, get_files\n",
    "from fastai.data.core import DataLoaders\n",
    "from fastai.learner import Learner\n",
    "from audiocrush.data import AudioBlock\n",
    "from fastai.data import CategoryBlock\n",
    "\n",
    "# Define the path to your data\n",
    "path = Path('C:/Data/Instruments')\n",
    "\n",
    "# Define your DataBlock\n",
    "audio_data_block = DataBlock(\n",
    "    blocks=(AudioBlock(sample_rate=16000), CategoryBlock),\n",
    "    get_items=get_audio_files,  # A function to get all audio file paths\n",
    "    splitter=RandomSplitter(valid_pct=0.2, seed=5),\n",
    "    get_y=parent_label,  # Assumes that the parent folder name is the label\n",
    ")\n",
    "\n",
    "# Create DataLoaders\n",
    "dls = audio_data_block.dataloaders(path, bs=32)"
   ]
  },
  {
   "cell_type": "code",
   "execution_count": null,
   "metadata": {},
   "outputs": [],
   "source": [
    "from fastai.data.block import DataBlock\n",
    "from fastai.data.transforms import RandomSplitter, get_files\n",
    "from fastai.data.core import DataLoaders\n",
    "from fastai.learner import Learner\n",
    "\n",
    "# Define the path to your data\n",
    "path = Path('/path/to/your/data')\n",
    "\n",
    "# Define your DataBlock\n",
    "audio_data_block = DataBlock(\n",
    "    blocks=(AudioBlock(sample_rate=16000), CategoryBlock),\n",
    "    get_items=get_audio_files,  # A function to get all audio file paths\n",
    "    splitter=RandomSplitter(valid_pct=0.2, seed=42),\n",
    "    get_y=parent_label,  # Assumes that the parent folder name is the label\n",
    ")\n",
    "\n",
    "# Create DataLoaders\n",
    "dls = audio_data_block.dataloaders(path, bs=32)"
   ]
  }
 ],
 "metadata": {
  "kernelspec": {
   "display_name": "crush",
   "language": "python",
   "name": "python3"
  },
  "language_info": {
   "codemirror_mode": {
    "name": "ipython",
    "version": 3
   },
   "file_extension": ".py",
   "mimetype": "text/x-python",
   "name": "python",
   "nbconvert_exporter": "python",
   "pygments_lexer": "ipython3",
   "version": "3.12.7"
  }
 },
 "nbformat": 4,
 "nbformat_minor": 2
}
